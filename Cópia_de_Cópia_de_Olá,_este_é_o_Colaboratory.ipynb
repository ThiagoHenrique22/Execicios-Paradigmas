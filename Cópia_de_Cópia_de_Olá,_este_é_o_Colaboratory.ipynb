{
  "cells": [
    {
      "cell_type": "markdown",
      "metadata": {
        "id": "view-in-github",
        "colab_type": "text"
      },
      "source": [
        "<a href=\"https://colab.research.google.com/github/ThiagoHenrique22/Conversor-de-Moeda/blob/main/C%C3%B3pia_de_C%C3%B3pia_de_Ol%C3%A1%2C_este_%C3%A9_o_Colaboratory.ipynb\" target=\"_parent\"><img src=\"https://colab.research.google.com/assets/colab-badge.svg\" alt=\"Open In Colab\"/></a>"
      ]
    },
    {
      "cell_type": "code",
      "source": [
        "# Programa 01 - Linguagem Pyton\n",
        "# Autor: Thiago Henrique Nunes Antunes - Data; 18/08/2023 - Linguagem: Pyton"
      ],
      "metadata": {
        "id": "PL_jTYC5bDMW"
      },
      "execution_count": null,
      "outputs": []
    },
    {
      "cell_type": "markdown",
      "source": [
        "Descrição Narrativa: Faça um prog. que leia duas notas e calcule sua média e depois informe se o aluno foi aprovado ou reprovado dado que a média > = 7 para ser aprovado"
      ],
      "metadata": {
        "id": "dIbnbTGsbm41"
      }
    },
    {
      "cell_type": "code",
      "source": [
        "# Leitura dos Dados de Entrada\n",
        "Nota1 = (float(input(\"Informe o valor da primeira nota\")))\n",
        "Nota2 = (float(input(\"Informe o valor da segunda nota\")))\n",
        "\n",
        "#Calcular a Média das Notas\n",
        "med = calmedia(Nota1, Nota2)\n",
        "\n",
        "# Estrutura de Decisão com IF para verificar se o aluno foi aprovado ou reprovado\n",
        "resp = verificarsituacao(med)\n",
        "\n",
        "# Escreva os resulados obitidos.\n",
        "print(\"O valor da Média é:\")\n",
        "print(med)\n",
        "print(\"O conceito do Aluno foi:\")\n",
        "print(resp)"
      ],
      "metadata": {
        "id": "UcOfhXhocN3t",
        "outputId": "1d2d26d5-d180-4a44-bb46-b94be218f90b",
        "colab": {
          "base_uri": "https://localhost:8080/"
        }
      },
      "execution_count": null,
      "outputs": [
        {
          "output_type": "stream",
          "name": "stdout",
          "text": [
            "Informe o valor da primeira nota10\n",
            "Informe o valor da segunda nota10\n",
            "O valor da Média é:\n",
            "10.0\n",
            "O conceito do Aluno foi:\n",
            "Aprovado\n"
          ]
        }
      ]
    },
    {
      "cell_type": "code",
      "source": [
        "# Modularizando o Programa em Questão>"
      ],
      "metadata": {
        "id": "cgNxMApDSMCY"
      },
      "execution_count": null,
      "outputs": []
    },
    {
      "cell_type": "code",
      "source": [
        "# Crianhdo o método para calcular a média.\n",
        "def calmedia(n1, n2):\n",
        "   return (n1 + n2)/2"
      ],
      "metadata": {
        "id": "_D-uMK2xRn2-"
      },
      "execution_count": null,
      "outputs": []
    },
    {
      "cell_type": "code",
      "source": [
        "# Verificar a situação do aluno.\n",
        "def verificarsituacao(media):\n",
        "  if (media >= 7):\n",
        "   return \"Aprovado\"\n",
        "  else:\n",
        "   return \"Reprovado\""
      ],
      "metadata": {
        "id": "v-RpACDJSG7H"
      },
      "execution_count": null,
      "outputs": []
    },
    {
      "cell_type": "markdown",
      "source": [
        "Faça um programa que solicite o preço de uma mercadoria e o percentual de desconto. Exiba o valor do desconto e o preço a pagar.\n",
        "\n",
        "Resposta:"
      ],
      "metadata": {
        "id": "N_LYy5CbZZXM"
      }
    },
    {
      "cell_type": "code",
      "source": [
        "preço = float(input(\"Digite o preço da mercadoria:\"))\n",
        "desconto = float(input(\"Digite o percentual de desconto:\"))\n",
        "valor_do_desconto = valordodesconto (valordodesconto)\n",
        "a_pagar = precoapagar (precoapagar)\n",
        "print(\"Um desconto de %5.2f %% em uma mercadoria de R$ %7.2f\" % (desconto, preço))\n",
        "print(\"vale R$ %7.2f.\" % valor_do_desconto)\n",
        "print(\"o valor a pagar é de R$ %7.2f\" % a_pagar)"
      ],
      "metadata": {
        "colab": {
          "base_uri": "https://localhost:8080/"
        },
        "id": "PtQMthzRZs9C",
        "outputId": "d30957ef-95d3-4f3f-b717-e02762c4ba31"
      },
      "execution_count": null,
      "outputs": [
        {
          "output_type": "stream",
          "name": "stdout",
          "text": [
            "Digite o preço da mercadoria:600\n",
            "Digite o percentual de desconto:45\n",
            "Um desconto de 45.00 % em uma mercadoria de R$  600.00\n",
            "vale R$  270.00.\n",
            "o valor a pagar é de R$  330.00\n"
          ]
        }
      ]
    },
    {
      "cell_type": "code",
      "source": [
        "# Modularizando o Programa em Questão>"
      ],
      "metadata": {
        "id": "vpuZTGtKmM4i"
      },
      "execution_count": null,
      "outputs": []
    },
    {
      "cell_type": "code",
      "source": [
        "# Valor do desconto\n",
        "def valordodesconto (valordodesconto) :\n",
        "  return preço * desconto / 100"
      ],
      "metadata": {
        "id": "DFyn6fS4mV1T"
      },
      "execution_count": null,
      "outputs": []
    },
    {
      "cell_type": "code",
      "source": [
        "# Preço a pagar\n",
        "def precoapagar (precoapagar) :\n",
        "  return preço - valor_do_desconto"
      ],
      "metadata": {
        "id": "u29iBOpPnUst"
      },
      "execution_count": null,
      "outputs": []
    },
    {
      "cell_type": "markdown",
      "source": [
        "Escreva um programa para calcular a redução do tempo de vida de um fumante. Pergunte a quantidade de cigarros fumados por dia e quantos anos ele já fumou. Considere que um fuamte perde 10 minutos de vida a cada cigarro, e calcule quantos dias de vida um fumante perderá. Exiba o total em dias.\n",
        "\n",
        "Resposta:"
      ],
      "metadata": {
        "id": "tskmx78ZuP8E"
      }
    },
    {
      "cell_type": "code",
      "source": [
        "# Leitura de Dados\n",
        "cigarros_por_dia = int(input(\"Quantidadde de cigarros por dia:\"))\n",
        "anos_fumando = float(input(\"Quantidade de anos fumando:\"))\n",
        "redução_em_minutos = tempodevida(tempodevida)\n",
        "\n",
        "# Um dia tem 24 x 60 minutos\n",
        "redução_em_dias = redução_em_minutos / (24 * 60)\n",
        "valor_em_anos = redução_em_dias / 365\n",
        "print(\"Redução do tempo de vida %8.2f dias.\" % redução_em_dias)\n",
        "print(\"Valor em anos:\", valor_em_anos)"
      ],
      "metadata": {
        "id": "itkIQtCovg9k",
        "colab": {
          "base_uri": "https://localhost:8080/"
        },
        "outputId": "2ffd5922-e66c-4181-d9b2-787989b0a3e2"
      },
      "execution_count": null,
      "outputs": [
        {
          "output_type": "stream",
          "name": "stdout",
          "text": [
            "Quantidadde de cigarros por dia:20\n",
            "Quantidade de anos fumando:40\n",
            "Redução do tempo de vida  2027.78 dias.\n",
            "Valor em anos: 5.555555555555555\n"
          ]
        }
      ]
    },
    {
      "cell_type": "code",
      "source": [
        "# Modularizando o Programa em Questão>"
      ],
      "metadata": {
        "id": "oeFIliNZnJnZ"
      },
      "execution_count": null,
      "outputs": []
    },
    {
      "cell_type": "code",
      "source": [
        "# Redução do tempo de vida\n",
        "def tempodevida (tempodevida) :\n",
        "  return anos_fumando * 365 * cigarros_por_dia * 10"
      ],
      "metadata": {
        "id": "Gy4LLzy5ju9U"
      },
      "execution_count": null,
      "outputs": []
    },
    {
      "cell_type": "markdown",
      "source": [
        "Escreva um programa que pergunte o salário do funcionário e calcule o valor do aumento. Para salários superiores a R$ 1.250,00, calcule um amumento de 10%. Para os inferiores ou iguais, de 15%"
      ],
      "metadata": {
        "id": "2C2Y4pF9iatM"
      }
    },
    {
      "cell_type": "code",
      "source": [
        "salário = float(input(\"Digite seu salário: \"))\n",
        "pc_aumento = 0.15\n",
        "if salário > 1250:\n",
        "  pc_aumento = 0.10\n",
        "\n",
        "aumento = salário * pc_aumento\n",
        "#salário = salário + pc_aumento\n",
        "\n",
        "print(f\"Seu aumento será de: R$ {aumento:7.2f}\")\n",
        "print(f\"o percentual de aumento foi: {pc_aumento:7.2f}\")\n",
        "salárionovo = salário + aumento\n",
        "print(salárionovo)"
      ],
      "metadata": {
        "colab": {
          "base_uri": "https://localhost:8080/"
        },
        "id": "CVg54YjLi6fq",
        "outputId": "673126c8-5cd2-4294-ed9d-952164785516"
      },
      "execution_count": null,
      "outputs": [
        {
          "output_type": "stream",
          "name": "stdout",
          "text": [
            "Digite seu salário: 10000\n",
            "Seu aumento será de: R$ 1000.00\n",
            "o percentual de aumento foi:    0.10\n",
            "11000.0\n"
          ]
        }
      ]
    },
    {
      "cell_type": "code",
      "source": [
        "#Altere o programa anterior de forma a perguntar também o valor depositado mensalmente.\n",
        "#Esse valor será depositado no início de cada mês,\n",
        "#e você deve considerá-lo para o cálculo de juros do mês seguinte.\n",
        "\n",
        "depósito = float(input(\"Depósito inicial: \"))\n",
        "taxa = float(input(\"Taxa de juros (Ex.: 3 para 3%): \"))\n",
        "investimento = float(input(\"Depósito mensal: \"))\n",
        "mês = 1\n",
        "saldo = depósito\n",
        "while mês <= 24:\n",
        "    saldo = saldo + (saldo * (taxa/ 100)) + investimento\n",
        "    print(f\"Saldo do mês {mês} é de R${saldo:5.2f}.\")\n",
        "    mês = mês + 1\n",
        "print(f\"O ganho obitido com os juros foi de R${saldo-depósito:8.2f}.\")\n",
        "# 5.2f e 8.2f são formatações para escolher a quantidade de caracteres (5 e 8) e\n",
        "# a quantidade de nnúmeros após a vírgula (.2f).\n"
      ],
      "metadata": {
        "colab": {
          "base_uri": "https://localhost:8080/"
        },
        "id": "xwh-MeO8Eopk",
        "outputId": "88b2516b-2b7a-45fc-c7b5-3bbaa8972009"
      },
      "execution_count": 2,
      "outputs": [
        {
          "output_type": "stream",
          "name": "stdout",
          "text": [
            "Depósito inicial: 1500\n",
            "Taxa de juros (Ex.: 3 para 3%): 5\n",
            "Depósito mensal: 100\n",
            "Saldo do mês 1 é de R$1675.00.\n",
            "Saldo do mês 2 é de R$1858.75.\n",
            "Saldo do mês 3 é de R$2051.69.\n",
            "Saldo do mês 4 é de R$2254.27.\n",
            "Saldo do mês 5 é de R$2466.99.\n",
            "Saldo do mês 6 é de R$2690.33.\n",
            "Saldo do mês 7 é de R$2924.85.\n",
            "Saldo do mês 8 é de R$3171.09.\n",
            "Saldo do mês 9 é de R$3429.65.\n",
            "Saldo do mês 10 é de R$3701.13.\n",
            "Saldo do mês 11 é de R$3986.19.\n",
            "Saldo do mês 12 é de R$4285.50.\n",
            "Saldo do mês 13 é de R$4599.77.\n",
            "Saldo do mês 14 é de R$4929.76.\n",
            "Saldo do mês 15 é de R$5276.25.\n",
            "Saldo do mês 16 é de R$5640.06.\n",
            "Saldo do mês 17 é de R$6022.06.\n",
            "Saldo do mês 18 é de R$6423.17.\n",
            "Saldo do mês 19 é de R$6844.33.\n",
            "Saldo do mês 20 é de R$7286.54.\n",
            "Saldo do mês 21 é de R$7750.87.\n",
            "Saldo do mês 22 é de R$8238.41.\n",
            "Saldo do mês 23 é de R$8750.33.\n",
            "Saldo do mês 24 é de R$9287.85.\n",
            "O ganho obitido com os juros foi de R$ 7787.85.\n"
          ]
        }
      ]
    },
    {
      "cell_type": "code",
      "source": [
        "# Lé um vetor de 8 posições e, em seguida,\n",
        "# Lé dois valores X e Y quaisquer correspondentes a\n",
        "# duas posições no vetor. O programa então imprime a soma\n",
        "# dos valores encontrados nas respectivas posições X e Y."
      ],
      "metadata": {
        "id": "ZnNNhH73kzM9"
      },
      "execution_count": null,
      "outputs": []
    },
    {
      "cell_type": "code",
      "source": [
        "def main():\n",
        "  # Declare um vetor de 8 posições\n",
        "  vetor = [0] * 8\n",
        "  # Lé os valores do vetor\n",
        "  for i in range(8):\n",
        "      vetor[i] = int(input(\"Digite o valor da posição {}: \".format(i)))\n",
        "  # Lé os valores X e Y\n",
        "  x = int(input(\"Digite o valor de X: \"))\n",
        "  y = int(input(\"Digite o valor de y: \"))\n",
        "  # Calcule a soma dos valores nas posições X e Y\n",
        "  soma = vetor[x] + vetor [y]\n",
        "  # Imprime a soma\n",
        "  print(\"A soma dos valores nas posições X e Y é {}.\".format(soma))\n",
        "\n",
        "if __name__==\"__main__\":\n",
        "  main()"
      ],
      "metadata": {
        "colab": {
          "base_uri": "https://localhost:8080/"
        },
        "id": "iJ7vHCGbk8Qt",
        "outputId": "457a1d87-314e-4ed4-8e03-3cf70fc6c7ec"
      },
      "execution_count": null,
      "outputs": [
        {
          "output_type": "stream",
          "name": "stdout",
          "text": [
            "Digite o valor da posição 0: 20\n",
            "Digite o valor da posição 1: 40\n",
            "Digite o valor da posição 2: 60\n",
            "Digite o valor da posição 3: 80\n",
            "Digite o valor da posição 4: 100\n",
            "Digite o valor da posição 5: 120\n",
            "Digite o valor da posição 6: 140\n",
            "Digite o valor da posição 7: 160\n",
            "Digite o valor de X: 2\n",
            "Digite o valor de y: 6\n",
            "A soma dos valores nas posições X e Y é 200.\n"
          ]
        }
      ]
    },
    {
      "cell_type": "code",
      "source": [
        "# Faça um programa em Pyton que receba do usuario\n",
        "# um vetor com 10 posições. Em seguida deve ser\n",
        "# impresso o maior e o menor elemento do vetor\n",
        "\n",
        "def main():\n",
        "# inicializar o veor zerado.\n",
        "    vetor = []\n",
        "# nessa linha eu vou limitar o número vetores lembrando que começa no 0.\n",
        "# faz a leitura e preenchimento dos elementos do vetor.\n",
        "    for i in range(10):\n",
        "        vetor.append(int(input(\"Digite o elemento %d: \" % i)))\n",
        "# Inicializando as variáveis Maior e Menor.\n",
        "    maior = vetor[0]\n",
        "    menor = vetor[0]\n",
        "# Fazer o laço para armazenar os comteudos dos\n",
        "# Elementos nas variáveis maior e menor.\n",
        "    for i in range(1, len(vetor)):\n",
        "        if vetor[i] > maior:\n",
        "            maior = vetor[i]\n",
        "        elif vetor[i] < menor:\n",
        "            menor = vetor[i]\n",
        "# Exibir o resultado final das variáveis Maior e Menor.\n",
        "    print(\"O maior elemento do vetor é %d.\" % maior)\n",
        "    print(\"O menor elemento do vetor é %d.\" % menor)\n",
        "if __name__== \"__main__\":\n",
        "    main()"
      ],
      "metadata": {
        "colab": {
          "base_uri": "https://localhost:8080/"
        },
        "id": "PQ2ltXB1n4Zm",
        "outputId": "186a9b7f-c259-4e85-88ed-d7ebcf0bbbf4"
      },
      "execution_count": null,
      "outputs": [
        {
          "output_type": "stream",
          "name": "stdout",
          "text": [
            "Digite o elemento 0: 10\n",
            "Digite o elemento 1: 2\n",
            "Digite o elemento 2: 30\n",
            "Digite o elemento 3: 40\n",
            "Digite o elemento 4: 50\n",
            "Digite o elemento 5: 60\n",
            "Digite o elemento 6: 200\n",
            "Digite o elemento 7: 70\n",
            "Digite o elemento 8: 80\n",
            "Digite o elemento 9: 90\n",
            "O maior elemento do vetor é 200.\n",
            "O menor elemento do vetor é 2.\n"
          ]
        }
      ]
    },
    {
      "cell_type": "code",
      "source": [
        "# Faça um programa em Pyton que receba 6 numeros inteiros e mostre:\n",
        "# * Os numeros pares digitados;\n",
        "# * A soma dos numeros pares digitados;\n",
        "# * Os muneros impares digitados;\n",
        "# * A quantidade de numeros impares\n",
        "\n",
        "def main():\n",
        "    numeros = []\n",
        "    numeros_pares = []\n",
        "    numeros_impares = []\n",
        "    soma_pares = 0\n",
        "\n",
        "    # Leitura dos Elementos do Vetor são 06 Números...\n",
        "    for i in range(6):\n",
        "      numeros.append(int(input(\"Digite um número: \")))\n",
        "\n",
        "    # Identificando Números Pares e Impares e adicionando aos respectivos vetores...\n",
        "    for numero in numeros:\n",
        "        if numero % 2 == 0:\n",
        "            numeros_pares.append(numero)\n",
        "            soma_pares += numero\n",
        "        else:\n",
        "            numeros_impares.append(numero)\n",
        "\n",
        "    print(\"Os números pares digitados são:\")\n",
        "    for numero in numeros_pares:\n",
        "        print(numero)\n",
        "    print(\"A soma dos números pares digitados é:\", soma_pares)\n",
        "    print(\"Os números ímpares digitados são:\")\n",
        "    for numero in numeros_impares:\n",
        "        print(numero)\n",
        "    print(\"A quantidade de números ímpares digitados é:\", len(numeros_impares))\n",
        "\n",
        "if __name__ == \"__main__\":\n",
        "  main()\n"
      ],
      "metadata": {
        "colab": {
          "base_uri": "https://localhost:8080/"
        },
        "id": "BOZ8TA4Kmgha",
        "outputId": "33a66b81-96f1-4213-a24e-ccea5f770997"
      },
      "execution_count": null,
      "outputs": [
        {
          "output_type": "stream",
          "name": "stdout",
          "text": [
            "Digite um número: 2\n",
            "Digite um número: 3\n",
            "Digite um número: 4\n",
            "Digite um número: 5\n",
            "Digite um número: 6\n",
            "Digite um número: 7\n",
            "Os números pares digitados são:\n",
            "2\n",
            "4\n",
            "6\n",
            "A soma dos números pares digitados é: 12\n",
            "Os números ímpares digitados são:\n",
            "3\n",
            "5\n",
            "7\n",
            "A quantidade de números ímpares digitados é: 3\n"
          ]
        }
      ]
    },
    {
      "cell_type": "code",
      "source": [
        "# Faça um programa em Pyton para gerar automaticamente\n",
        "# numeros entre 0 e 99 de uma cartela de bingo.\n",
        "# Sabendo que cada cartela devera conter 5 linhas de 5 numeros,\n",
        "# das cartelas. O programa deve exibir na\n",
        "# tela a cartela gerada.\n",
        "\n",
        "import random\n",
        "\n",
        "def gerar_cartela():\n",
        "    cartela = []\n",
        "\n",
        "    while len(cartela) < 25:\n",
        "        numero = random.randint(0, 99)\n",
        "        if numero not in cartela:\n",
        "            cartela.append(numero)\n",
        "\n",
        "    return cartela\n",
        "\n",
        "def exibir_cartela(cartela):\n",
        "    for i in range(5):\n",
        "        for j in range(5):\n",
        "            index = i * 5 + j\n",
        "            print(f'{cartela[index]:2}', end='  ')\n",
        "        print()\n",
        "\n",
        "def main():\n",
        "    num_cartelas = int(input(\"Quantas cartelas você deseja gerar? \"))\n",
        "\n",
        "    for i in range(num_cartelas):\n",
        "        cartela = gerar_cartela()\n",
        "        print(f'\\nCartela {i + 1}:\\n')\n",
        "        exibir_cartela(cartela)\n",
        "\n",
        "if __name__ == \"__main__\":\n",
        "    main()\n"
      ],
      "metadata": {
        "colab": {
          "base_uri": "https://localhost:8080/"
        },
        "id": "x8OHuf47uQ2f",
        "outputId": "450e6e80-d4ad-417d-ed58-f40c09fba934"
      },
      "execution_count": null,
      "outputs": [
        {
          "output_type": "stream",
          "name": "stdout",
          "text": [
            "Quantas cartelas você deseja gerar? 10\n",
            "\n",
            "Cartela 1:\n",
            "\n",
            "85  80  44  69  91  \n",
            "56  34  83  94  92  \n",
            "32  55  67  10  15  \n",
            "26  25  73  98  86  \n",
            "12  93  77  31  53  \n",
            "\n",
            "Cartela 2:\n",
            "\n",
            "47  87  18   6  44  \n",
            " 7  42  50  83  20  \n",
            "82  67  97  57  30  \n",
            "34  77  89   3  86  \n",
            "17  58  39  27  53  \n",
            "\n",
            "Cartela 3:\n",
            "\n",
            "38  16  83  73  57  \n",
            "17  29  98  95  46  \n",
            "61   6  75  63  28  \n",
            " 4  70  65  37  51  \n",
            "84  78  81   5  33  \n",
            "\n",
            "Cartela 4:\n",
            "\n",
            " 8  17  25  81  34  \n",
            " 1  63  20  24  99  \n",
            "11  61  47  86  53  \n",
            "22  82  92  64  89  \n",
            "55  52  44  98  36  \n",
            "\n",
            "Cartela 5:\n",
            "\n",
            "47   8  83  82  14  \n",
            "63  73  56  60  97  \n",
            " 2  48  34  13  24  \n",
            "44  26  27  85  87  \n",
            "22  77  25  58  62  \n",
            "\n",
            "Cartela 6:\n",
            "\n",
            "27   4   0   9  60  \n",
            "24   6  46  33  67  \n",
            " 5  25  56  17  91  \n",
            "62  72  83  51  89  \n",
            "68  58  30  39  34  \n",
            "\n",
            "Cartela 7:\n",
            "\n",
            "62  35   1  32  30  \n",
            "58  49  52  55  46  \n",
            "67  24   9  13  81  \n",
            "98  95  71   2  50  \n",
            " 0  96  23  44  51  \n",
            "\n",
            "Cartela 8:\n",
            "\n",
            "53  90  22   8  68  \n",
            "87  59  32  36  40  \n",
            " 3  56  31  37  84  \n",
            "65   1  57   2  61  \n",
            "26  10  55  38  43  \n",
            "\n",
            "Cartela 9:\n",
            "\n",
            "52  80  38  64  30  \n",
            "53  11  50   2  43  \n",
            "73  29  12  76   0  \n",
            "88  45  55  71  59  \n",
            "82  94  83  32  41  \n",
            "\n",
            "Cartela 10:\n",
            "\n",
            "53  55  30  36   5  \n",
            "14  45  20  65  61  \n",
            " 1  57  67  52  80  \n",
            "98  15  58  16  70  \n",
            "69  48  87  50  39  \n"
          ]
        }
      ]
    },
    {
      "cell_type": "code",
      "source": [
        "# Crie um dicioário que é uma agenda e coloque nele os\n",
        "# seguintes dados: chave (cpf),\n",
        "# nome, idade, telefone. O programa deve ler um número indeterminado\n",
        "# de dados, criar a agenda e imprimir todos os itens do dicionário\n",
        "# no fprmato chave: nome, idade, fone.\n",
        "\n",
        "def main():\n",
        "  # Cria um dicionário vazio\n",
        "  agenda = {}\n",
        "\n",
        "  # Lê os dados da agenda\n",
        "  while True:\n",
        "      cpf = input(\"Digite o CPF: \")\n",
        "      nome = input(\"Digite o nome: \")\n",
        "      idade = input(\"Digite a idade \")\n",
        "      telefone = input(\"Digite o tlefone \")\n",
        "\n",
        "      # Adiciona os dados ao dicionário\n",
        "      agenda[cpf] = {\n",
        "          \"nome\": nome,\n",
        "          \"idade\": idade,\n",
        "          \"telefone\": telefone\n",
        "      }\n",
        "\n",
        "      # Pergunta se o usuário deseja continuar\n",
        "      continuar = input(\"Deseja continuar? (s/n): \")\n",
        "      if continuar != \"s\":\n",
        "          break\n",
        "\n",
        "      # Imprime os itens do dicionário\n",
        "      for cpf, contato in agenda.items():\n",
        "        print(cpf, contato[\"nome\"], contato[\"idade\"], contato[\"telefone\"])\n",
        "\n",
        "if __name__ == \"__main__\":\n",
        "  main()"
      ],
      "metadata": {
        "colab": {
          "base_uri": "https://localhost:8080/"
        },
        "id": "md64YtmSyMZx",
        "outputId": "a01da09c-5e08-4a82-ac0a-878afc8e27bb"
      },
      "execution_count": null,
      "outputs": [
        {
          "name": "stdout",
          "output_type": "stream",
          "text": [
            "Digite o CPF: 11668696444\n",
            "Digite o nome: Thiago Henrique Nunes Antunes\n",
            "Digite a idade 19\n",
            "Digite o tlefone 988808198\n",
            "Deseja continuar? (s/n): n\n"
          ]
        }
      ]
    },
    {
      "cell_type": "code",
      "source": [
        "# Escreva um programa que compare duas listas. Utilizando operações com conjuntos, imprima:\n",
        "# os valores comuns às duas listas\n",
        "# os valores que só existem na primeira\n",
        "# os valores que existem apenas na segunda\n",
        "# uma lista com os elementos não repetidos das duas listas.\n",
        "# a primeira lista sem os elementos repetidos na segunda\n",
        "\n",
        "L1 = [1, 2, 6, 8]\n",
        "L2 = [3, 6, 8, 9]\n",
        "\n",
        "#print F - permite apresentar na tela os valores de qualquer tipo de dado.\n",
        "print(f\"Lista 1: {L1}\")\n",
        "print(f\"Lista 2: {L2}\")\n",
        "\n",
        "conjunto_1 = set(L1)\n",
        "conjunto_2 = set(L2)\n",
        "\n",
        "# Conjuntos suportam o operador & para realizar a interseção, ou seja,\n",
        "# A & B resulta no conjunto de elementos presentes em A e B\n",
        "# Para fins de comparação deve-se utilizar o conjunto.\n",
        "print(\"Valores comuns às duas listas:\", conjunto_1 & conjunto_2)\n",
        "print(\"Valores que só existem na primeira:\", conjunto_1 - conjunto_2)\n",
        "print(\"Valores que só existem na segunda:\", conjunto_1 - conjunto_2)\n",
        "\n",
        "# Conjuntos suportam o operador ^ que realiza a subtração simétrica.\n",
        "# A ^ B resulta nos elementos de A não presentes em B unidos\n",
        "# com os elementos de B não presentes em A\n",
        "# A ^ B = A - B | B - A\n",
        "print(\"Elementos não repetidos nas duas listas:\", conjunto_1 ^ conjunto_2)\n",
        "\n",
        "# Repetindo\n",
        "print(\"Primeira lista, sem os elementos repetidos na segunda:\",\n",
        "      conjunto_1 - conjunto_2)"
      ],
      "metadata": {
        "colab": {
          "base_uri": "https://localhost:8080/"
        },
        "id": "DSnPW9u8-jv9",
        "outputId": "73a4c4b6-2167-490b-e4fc-0c2d594f890a"
      },
      "execution_count": 1,
      "outputs": [
        {
          "output_type": "stream",
          "name": "stdout",
          "text": [
            "Lista 1: [1, 2, 6, 8]\n",
            "Lista 2: [3, 6, 8, 9]\n",
            "Valores comuns às duas listas: {8, 6}\n",
            "Valores que só existem na primeira: {1, 2}\n",
            "Valores que só existem na segunda: {1, 2}\n",
            "Elementos não repetidos nas duas listas: {1, 2, 3, 9}\n",
            "Primeira lista, sem os elementos repetidos na segunda: {1, 2}\n"
          ]
        }
      ]
    },
    {
      "cell_type": "code",
      "source": [
        "# Escreva um programa para controlar uma pequena máquina registradora.\n",
        "# Você deve solicitar ao usuário que digite o código do produto\n",
        "# e a quantidade comprada. Utilize a tabela de códigos\n",
        "# a seguir para obter o preço de cada produto:\n",
        "\n",
        "# Código Preço\n",
        "# 1      0,50\n",
        "# 2      1,00\n",
        "# 3      4,00\n",
        "# 5      7,00\n",
        "# 9      8,00\n",
        "\n",
        "# Seu programa deve exibir o total das compras depois que o usuário digitar 0.\n",
        "#Qualquer outro código deve gerar a mensagem de erro “Código inválido”.\n",
        "\n",
        "apagar = 0\n",
        "while True:\n",
        "    código = int(input(\"código da mercadoria (0 para sair): \"))\n",
        "    preço = 0\n",
        "    if código == 0:\n",
        "        break\n",
        "    elif código\t== 1:\n",
        "        preço = 0.50\n",
        "    elif código == 2:\n",
        "        preço = 1.00\n",
        "    elif código == 3:\n",
        "        preço = 4.00\n",
        "    elif código == 5:\n",
        "        preço = 7.00\n",
        "    elif código == 9:\n",
        "        preço = 8.00\n",
        "    else:\n",
        "        print(\"Código inválido!\")\n",
        "    if preço !=0:\n",
        "        quantidade = int(input(\"Quantidade: \"))\n",
        "        apagar = apagar + (preço * quantidade)\n",
        "print(f\"Total a pagar R${apagar:8.2f}\")"
      ],
      "metadata": {
        "colab": {
          "base_uri": "https://localhost:8080/"
        },
        "id": "04xdm4aGPLNk",
        "outputId": "394289b7-d76e-47e6-d6ba-2a6ad81236c9"
      },
      "execution_count": 1,
      "outputs": [
        {
          "output_type": "stream",
          "name": "stdout",
          "text": [
            "código da mercadoria (0 para sair): 1\n",
            "Quantidade: 5\n",
            "código da mercadoria (0 para sair): 3\n",
            "Quantidade: 1\n",
            "código da mercadoria (0 para sair): 9\n",
            "Quantidade: 2\n",
            "código da mercadoria (0 para sair): 2\n",
            "Quantidade: 4\n",
            "código da mercadoria (0 para sair): 0\n",
            "Total a pagar R$   26.50\n"
          ]
        }
      ]
    },
    {
      "cell_type": "code",
      "source": [
        "# Faça um programa em Python que receba do usuario dois vetores,\n",
        "# ´ A e B, com 10 numeros inteiros cada.\n",
        "# Crie um novo vetor denominado C calculando C = A - B.\n",
        "# Mostre na tela os dados do vetor C.\n",
        "\n",
        "def main():\n",
        "    vetor_a = []\n",
        "    vetor_b = []\n",
        "    vetor_c = []\n",
        "\n",
        "    for i in range(10):\n",
        "        vetor_a.append(int(input(\"Digite o elemento %d do vetor A: \" % i)))\n",
        "        vetor_b.append(int(input(\"Digite o elemento %d do vetor B: \" % i)))\n",
        "\n",
        "    for i in range(10):\n",
        "        vetor_c.append(vetor_a[i] - vetor_b[i])\n",
        "\n",
        "    print(\"Vetor C:\")\n",
        "    for i in range(10):\n",
        "        print(vetor_c[i])\n",
        "\n",
        "\n",
        "if __name__ == \"__main__\":\n",
        "    main()"
      ],
      "metadata": {
        "colab": {
          "base_uri": "https://localhost:8080/"
        },
        "id": "jlxEQL-_rLGn",
        "outputId": "387cf587-97f6-4cde-ffba-7b639774baba"
      },
      "execution_count": 3,
      "outputs": [
        {
          "output_type": "stream",
          "name": "stdout",
          "text": [
            "Digite o elemento 0 do vetor A: 1\n",
            "Digite o elemento 0 do vetor B: 2\n",
            "Digite o elemento 1 do vetor A: 2\n",
            "Digite o elemento 1 do vetor B: 3\n",
            "Digite o elemento 2 do vetor A: 4\n",
            "Digite o elemento 2 do vetor B: 5\n",
            "Digite o elemento 3 do vetor A: 4\n",
            "Digite o elemento 3 do vetor B: 6\n",
            "Digite o elemento 4 do vetor A: 4\n",
            "Digite o elemento 4 do vetor B: 6\n",
            "Digite o elemento 5 do vetor A: 4\n",
            "Digite o elemento 5 do vetor B: 2\n",
            "Digite o elemento 6 do vetor A: 5\n",
            "Digite o elemento 6 do vetor B: 2\n",
            "Digite o elemento 7 do vetor A: 4\n",
            "Digite o elemento 7 do vetor B: 6\n",
            "Digite o elemento 8 do vetor A: 5\n",
            "Digite o elemento 8 do vetor B: 4\n",
            "Digite o elemento 9 do vetor A: 5\n",
            "Digite o elemento 9 do vetor B: 4\n",
            "Vetor C:\n",
            "-1\n",
            "-1\n",
            "-1\n",
            "-2\n",
            "-2\n",
            "2\n",
            "3\n",
            "-2\n",
            "1\n",
            "1\n"
          ]
        }
      ]
    },
    {
      "cell_type": "code",
      "source": [
        "# Construa um dicionário com nome, salariobruto, salario liquido,\n",
        "# para número indeterminado de pessoas, nele será calculado o\n",
        "# desconto de 8% do INSS e de 10% para IRPF. Preciso que o\n",
        "# programa seja escrito na Linguagem Python de forma Otimizada..\n",
        "\n",
        "\n",
        "def main():\n",
        "    # Cria um dicionário vazio\n",
        "    folha_de_pagamento = {}\n",
        "\n",
        "    # Lê os dados da folha de pagamento\n",
        "    while True:\n",
        "        # Lê o nome e o salário bruto\n",
        "        nome = input(\"Digite o nome: \")\n",
        "        salario_bruto = float(input(\"Digite o salário bruto: \"))\n",
        "\n",
        "        # Calcula o desconto do INSS\n",
        "        desconto_inss = salario_bruto * 0.08\n",
        "\n",
        "        # Calcula o desconto do IRPF\n",
        "        desconto_irpf = 0\n",
        "        if salario_bruto > 1903.98:\n",
        "            desconto_irpf = salario_bruto * 0.10\n",
        "\n",
        "        # Calcula o salário líquido\n",
        "        salario_liquido = salario_bruto - desconto_inss - desconto_irpf\n",
        "\n",
        "        # Adiciona os dados ao dicionário\n",
        "        folha_de_pagamento[nome] = {\n",
        "            \"salario_bruto\": salario_bruto,\n",
        "            \"desconto_inss\": desconto_inss,\n",
        "            \"desconto_irpf\": desconto_irpf,\n",
        "            \"salario_liquido\": salario_liquido,\n",
        "        }\n",
        "\n",
        "        # Pergunta se o usuário deseja continuar\n",
        "        continuar = input(\"Deseja continuar? (s/n): \")\n",
        "        if continuar != \"s\":\n",
        "            break\n",
        "\n",
        "    # Imprime os itens do dicionário\n",
        "    for nome, dados in folha_de_pagamento.items():\n",
        "        print(nome, dados[\"salario_bruto\"], dados[\"desconto_inss\"], dados[\"desconto_irpf\"], dados[\"salario_liquido\"])\n",
        "\n",
        "\n",
        "if __name__ == \"__main__\":\n",
        "    main()"
      ],
      "metadata": {
        "colab": {
          "base_uri": "https://localhost:8080/"
        },
        "id": "psJUessgrvLr",
        "outputId": "a87e27d6-2438-4908-975e-847a3583ee27"
      },
      "execution_count": 5,
      "outputs": [
        {
          "output_type": "stream",
          "name": "stdout",
          "text": [
            "Digite o nome: Thiago\n",
            "Digite o salário bruto: 10000\n",
            "Deseja continuar? (s/n): s\n",
            "Digite o nome: André\n",
            "Digite o salário bruto: 5000\n",
            "Deseja continuar? (s/n): n\n",
            "Thiago 10000.0 800.0 1000.0 8200.0\n",
            "André 5000.0 400.0 500.0 4100.0\n"
          ]
        }
      ]
    },
    {
      "cell_type": "code",
      "source": [
        "# Faça um Programa em Python que Leia uma matriz 10 x 3 com as notas\n",
        "# de 10 alunos em 3 provas. Em seguida, escreva o numero de alunos\n",
        "# cuja pior nota foi na prova 1, o número de alunos cuja pior nota\n",
        "# foi na prova 2, e o numero de alunos cuja pior nota foi na prova 3.\n",
        "# Em caso de empate das piores notas de um aluno, o critério de desempate\n",
        "#e arbitrário, mas o aluno deve ser contabilizado apenas uma vez.\n",
        "\n",
        "def main():\n",
        "    matriz = []\n",
        "    for i in range(10):\n",
        "        matriz.append([int(input(\"Digite a nota do aluno %d na prova 1: \" % i)),\n",
        "                      int(input(\"Digite a nota do aluno %d na prova 2: \" % i)),\n",
        "                      int(input(\"Digite a nota do aluno %d na prova 3: \" % i))])\n",
        "\n",
        "    alunos_prova_1 = 0\n",
        "    alunos_prova_2 = 0\n",
        "    alunos_prova_3 = 0\n",
        "\n",
        "    for aluno in matriz:\n",
        "        pior_nota = aluno[0]\n",
        "        if pior_nota > aluno[1]:\n",
        "            pior_nota = aluno[1]\n",
        "        if pior_nota > aluno[2]:\n",
        "            pior_nota = aluno[2]\n",
        "\n",
        "        if pior_nota == aluno[0]:\n",
        "            alunos_prova_1 += 1\n",
        "        elif pior_nota == aluno[1]:\n",
        "            alunos_prova_2 += 1\n",
        "        else:\n",
        "            alunos_prova_3 += 1\n",
        "\n",
        "    print(\"O número de alunos cuja pior nota foi na prova 1 é:\", alunos_prova_1)\n",
        "    print(\"O número de alunos cuja pior nota foi na prova 2 é:\", alunos_prova_2)\n",
        "    print(\"O número de alunos cuja pior nota foi na prova 3 é:\", alunos_prova_3)\n",
        "\n",
        "\n",
        "if __name__ == \"__main__\":\n",
        "    main()\n"
      ],
      "metadata": {
        "colab": {
          "base_uri": "https://localhost:8080/"
        },
        "id": "5w96yxv-sKTm",
        "outputId": "bf06a134-1cfc-4f8f-d35b-d99c6451a703"
      },
      "execution_count": 6,
      "outputs": [
        {
          "output_type": "stream",
          "name": "stdout",
          "text": [
            "Digite a nota do aluno 0 na prova 1: 6\n",
            "Digite a nota do aluno 0 na prova 2: 7\n",
            "Digite a nota do aluno 0 na prova 3: 5\n",
            "Digite a nota do aluno 1 na prova 1: 10\n",
            "Digite a nota do aluno 1 na prova 2: 7\n",
            "Digite a nota do aluno 1 na prova 3: 6\n",
            "Digite a nota do aluno 2 na prova 1: 10\n",
            "Digite a nota do aluno 2 na prova 2: 9\n",
            "Digite a nota do aluno 2 na prova 3: 10\n",
            "Digite a nota do aluno 3 na prova 1: 4\n",
            "Digite a nota do aluno 3 na prova 2: 3\n",
            "Digite a nota do aluno 3 na prova 3: 6\n",
            "Digite a nota do aluno 4 na prova 1: 2\n",
            "Digite a nota do aluno 4 na prova 2: 1\n",
            "Digite a nota do aluno 4 na prova 3: 3\n",
            "Digite a nota do aluno 5 na prova 1: 6\n",
            "Digite a nota do aluno 5 na prova 2: 5\n",
            "Digite a nota do aluno 5 na prova 3: 7\n",
            "Digite a nota do aluno 6 na prova 1: 10\n",
            "Digite a nota do aluno 6 na prova 2: 10\n",
            "Digite a nota do aluno 6 na prova 3: 10\n",
            "Digite a nota do aluno 7 na prova 1: 1\n",
            "Digite a nota do aluno 7 na prova 2: 1\n",
            "Digite a nota do aluno 7 na prova 3: 1\n",
            "Digite a nota do aluno 8 na prova 1: 0\n",
            "Digite a nota do aluno 8 na prova 2: 0\n",
            "Digite a nota do aluno 8 na prova 3: 0\n",
            "Digite a nota do aluno 9 na prova 1: 4\n",
            "Digite a nota do aluno 9 na prova 2: 5\n",
            "Digite a nota do aluno 9 na prova 3: 9\n",
            "O número de alunos cuja pior nota foi na prova 1 é: 4\n",
            "O número de alunos cuja pior nota foi na prova 2 é: 4\n",
            "O número de alunos cuja pior nota foi na prova 3 é: 2\n"
          ]
        }
      ]
    }
  ],
  "metadata": {
    "colab": {
      "provenance": [],
      "toc_visible": true,
      "include_colab_link": true
    },
    "kernelspec": {
      "display_name": "Python 3",
      "name": "python3"
    }
  },
  "nbformat": 4,
  "nbformat_minor": 0
}